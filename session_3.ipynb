{
 "cells": [
  {
   "cell_type": "code",
   "execution_count": 1,
   "metadata": {
    "collapsed": true
   },
   "outputs": [],
   "source": [
    "import pandas as pd\n",
    "import numpy as np\n",
    "\n",
    "from sklearn.linear_model import LinearRegression, Lasso, ElasticNet, BayesianRidge, ARDRegression\n",
    "from sklearn.ensemble import ExtraTreesRegressor, RandomForestRegressor, AdaBoostRegressor, BaggingRegressor, GradientBoostingRegressor\n",
    "from sklearn.tree import DecisionTreeRegressor\n",
    "\n",
    "from sklearn.feature_selection import VarianceThreshold\n",
    "from sklearn.feature_selection import SelectKBest\n",
    "from sklearn.feature_selection import chi2\n",
    "from sklearn.feature_selection import RFE\n",
    "\n",
    "\n",
    "from sklearn.cross_validation import LabelKFold\n",
    "from ml_metrics import rmsle\n",
    "\n",
    "import seaborn as sns\n",
    "import matplotlib.pyplot as plt\n",
    "%matplotlib inline"
   ]
  },
  {
   "cell_type": "code",
   "execution_count": 2,
   "metadata": {
    "collapsed": true
   },
   "outputs": [],
   "source": [
    "train = pd.read_csv('train.csv', parse_dates=['datetime'])"
   ]
  },
  {
   "cell_type": "code",
   "execution_count": 3,
   "metadata": {
    "collapsed": true
   },
   "outputs": [],
   "source": [
    "def select_features(data):\n",
    "    black_list = ['casual', 'registered', 'count', 'is_test', 'datetime']\n",
    "    return [feat for feat in data.columns if feat not in black_list]\n",
    "    \n",
    "def get_X_y(data, target_var='count'):\n",
    "    features = select_features(data)\n",
    "    return data[features].values, data[target_var].values\n",
    "\n",
    "def validation(data, n_folds=3):\n",
    "    feats = select_features(data)\n",
    "    X = data[feats].values\n",
    "    y = data['count'].values\n",
    "\n",
    "    labels = data['datetime'].dt.month.values\n",
    "    \n",
    "    for train_idx, test_idx in LabelKFold(labels, n_folds=n_folds):\n",
    "        yield X[train_idx], X[test_idx], y[train_idx], y[test_idx]\n",
    "\n",
    "def get_importance_features(data, model, limit, target_variable):\n",
    "    X,y = get_X_y(data, target_variable)\n",
    "    cols = select_features(data)\n",
    "    \n",
    "    model.fit(X, y)\n",
    "    feats = pd.DataFrame(model.feature_importances_, index=data[cols].columns)\n",
    "    feats = feats.sort_values(by=[0], ascending=False) [:limit]\n",
    "    return feats.rename(columns={0:'name'})\n",
    "    \n",
    "def draw_importance_features(data, model=RandomForestRegressor(), limit=30, target_variable='count'):\n",
    "    feats = get_importance_features(data, model, limit, target_variable)\n",
    "    feats.plot(kind='bar', figsize=(20, 8), title=\"Target variable = {0}\".format(target_variable))\n",
    "    \n",
    "    \n",
    "def count_modeling(model, data, feats, n_folds=3):\n",
    "    X,y  = data[feats].values, data['count'].values\n",
    "\n",
    "    labels = data['datetime'].dt.month.values\n",
    "    \n",
    "    scores = []\n",
    "    for train_idx, test_idx in LabelKFold(labels, n_folds=n_folds):\n",
    "        model.fit(X[train_idx], y[train_idx])\n",
    "        y_pred = model.predict(X[test_idx])\n",
    "        y_pred[y_pred <0 ] = 0\n",
    "        scores.append(rmsle(y[test_idx], y_pred))\n",
    "        \n",
    "    return np.mean(scores), np.std(scores)"
   ]
  },
  {
   "cell_type": "markdown",
   "metadata": {},
   "source": [
    "## Feature Engineering\n",
    "\n",
    "There're different type of variables:\n",
    "- numerical (integer or float)\n",
    "    - put into different buckets, e.g. you can split age in number into buckets: **children**, **teenagers**, **adults**, **old**\n",
    "- categorical (e.g. colours blue, white, black)\n",
    "    - convert into numerical, e.g. a, b, c => 0, 1, 2\n",
    "    - one hot encoding: crate from one column, n-columns binary, where n is count of unique value\n",
    "    - convert into probability\n",
    "- date|datetime\n",
    "    - extract day, month, year\n",
    "    - get extra information from excracted parts for day, e.g. is_wekeend, is_holiday in given country and so on"
   ]
  },
  {
   "cell_type": "code",
   "execution_count": 4,
   "metadata": {
    "collapsed": false
   },
   "outputs": [],
   "source": [
    "def cat_hour(hour):\n",
    "    if 5 >= hour < 10:\n",
    "        return 1#morning\n",
    "    elif 10 >= hour < 17:\n",
    "        return 2#day\n",
    "    elif 17 >= hour < 23:\n",
    "        return 3 #evening\n",
    "    else:\n",
    "        return 4 #night\n",
    "    \n",
    "def feature_engineering(data):\n",
    "    data['year'] = data['datetime'].dt.year\n",
    "    # you cand add: month, day, hour, minute, dayofweek, weekofyear\n",
    "    \n",
    "    data['month'] = data['datetime'].dt.month\n",
    "    data['day'] = data['datetime'].dt.day\n",
    "    data['hour'] = data['datetime'].dt.hour\n",
    "    data['minute'] = data['datetime'].dt.minute\n",
    "    data['dayofweek'] = data['datetime'].dt.dayofweek\n",
    "    data['weekofyear'] = data['datetime'].dt.weekofyear\n",
    "    \n",
    "\n",
    "    #you can think in this way as well:\n",
    "    data['weekend'] = data.dayofweek.map(lambda x: int(x in [5,6]) )\n",
    "    data['time_of_day'] = data['hour'].map(cat_hour)\n",
    "    \n",
    "    \n",
    "feature_engineering(train)"
   ]
  },
  {
   "cell_type": "code",
   "execution_count": 5,
   "metadata": {
    "collapsed": false
   },
   "outputs": [
    {
     "data": {
      "image/png": "[encoded data removed]",
      "text/plain": [
       "<matplotlib.figure.Figure at 0x119bae850>"
      ]
     },
     "metadata": {},
     "output_type": "display_data"
    }
   ],
   "source": [
    "draw_importance_features(train, target_variable='count')"
   ]
  },
  {
   "cell_type": "code",
   "execution_count": 6,
   "metadata": {
    "collapsed": false
   },
   "outputs": [
    {
     "name": "stdout",
     "output_type": "stream",
     "text": [
      "score=0.39816, score_std=0.3982\n"
     ]
    }
   ],
   "source": [
    "model = RandomForestRegressor()\n",
    "feats = select_features(train)\n",
    "score, score_std = count_modeling(model, train, feats)\n",
    "\n",
    "print(\"score={0}, score_std={1}\".format(round(score, 5), round(score, 4)))"
   ]
  },
  {
   "cell_type": "markdown",
   "metadata": {},
   "source": [
    "## Feature Selection\n",
    "Remember the ideal score is 0."
   ]
  },
  {
   "cell_type": "code",
   "execution_count": 7,
   "metadata": {
    "collapsed": false
   },
   "outputs": [
    {
     "name": "stdout",
     "output_type": "stream",
     "text": [
      "removed features: ['holiday', 'weekend', 'minute', 'workingday']\n",
      "\n",
      "current features['season' 'weather' 'temp' 'atemp' 'humidity' 'windspeed' 'year' 'month'\n",
      " 'day' 'hour' 'dayofweek' 'weekofyear' 'time_of_day']\n"
     ]
    }
   ],
   "source": [
    "feats = select_features(train)\n",
    "\n",
    "treshold = .6\n",
    "sel = VarianceThreshold(threshold=(treshold * (1 - treshold)))\n",
    "sel.fit_transform(train[feats], train['count']).shape\n",
    "\n",
    "current_feats = np.array(feats)[sel.get_support()]\n",
    "removed_feats = list(set(np.array(feats)) - set(current_feats))\n",
    "\n",
    "print(\"removed features: {0}\\n\\ncurrent features{1}\".format(removed_feats, current_feats))"
   ]
  },
  {
   "cell_type": "code",
   "execution_count": 10,
   "metadata": {
    "collapsed": false
   },
   "outputs": [],
   "source": [
    "def find_the_best_features(data, sel_class, model=RandomForestRegressor(), verbose=True, range_k = range(2, 17), show_top=5):\n",
    "    feats = select_features(data)\n",
    "    X,y = data[feats], data['count']\n",
    "\n",
    "    results = []\n",
    "    for k in range_k:\n",
    "        sel = sel_class(k)\n",
    "        X_new = sel.fit_transform(X, y)\n",
    "\n",
    "        current_feats = np.array(feats)[sel.get_support()]\n",
    "        mean_score, std_score = (count_modeling(model, train, current_feats))\n",
    "        if verbose:\n",
    "            print(\"score={0}, std-score{1}, features#{2}: {3}\".format(round(mean_score, 5), round(std_score, 4), len(current_feats), current_feats ))\n",
    "        \n",
    "        results.append( (mean_score, std_score, current_feats) )\n",
    "\n",
    "    return sorted(results, key=lambda x: x[0])[:show_top]"
   ]
  },
  {
   "cell_type": "code",
   "execution_count": 11,
   "metadata": {
    "collapsed": false
   },
   "outputs": [
    {
     "name": "stdout",
     "output_type": "stream",
     "text": [
      "score=0.81472, std-score0.0206, features#2: ['humidity' 'hour']\n",
      "score=0.79216, std-score0.0351, features#3: ['humidity' 'hour' 'weekofyear']\n",
      "score=0.75718, std-score0.0377, features#4: ['temp' 'humidity' 'hour' 'weekofyear']\n",
      "score=0.74501, std-score0.0248, features#5: ['temp' 'atemp' 'humidity' 'hour' 'weekofyear']\n",
      "score=0.74925, std-score0.0333, features#6: ['temp' 'atemp' 'humidity' 'windspeed' 'hour' 'weekofyear']\n",
      "score=0.74365, std-score0.0241, features#7: ['temp' 'atemp' 'humidity' 'windspeed' 'hour' 'weekofyear' 'time_of_day']\n",
      "score=0.75235, std-score0.0276, features#8: ['temp' 'atemp' 'humidity' 'windspeed' 'day' 'hour' 'weekofyear'\n",
      " 'time_of_day']\n",
      "score=0.73115, std-score0.0061, features#9: ['temp' 'atemp' 'humidity' 'windspeed' 'month' 'day' 'hour' 'weekofyear'\n",
      " 'time_of_day']\n",
      "score=0.50574, std-score0.0132, features#10: ['temp' 'atemp' 'humidity' 'windspeed' 'month' 'day' 'hour' 'dayofweek'\n",
      " 'weekofyear' 'time_of_day']\n",
      "score=0.50623, std-score0.0053, features#11: ['temp' 'atemp' 'humidity' 'windspeed' 'month' 'day' 'hour' 'dayofweek'\n",
      " 'weekofyear' 'weekend' 'time_of_day']\n",
      "score=0.49385, std-score0.0114, features#12: ['holiday' 'temp' 'atemp' 'humidity' 'windspeed' 'month' 'day' 'hour'\n",
      " 'dayofweek' 'weekofyear' 'weekend' 'time_of_day']\n",
      "score=0.49771, std-score0.008, features#13: ['season' 'holiday' 'temp' 'atemp' 'humidity' 'windspeed' 'month' 'day'\n",
      " 'hour' 'dayofweek' 'weekofyear' 'weekend' 'time_of_day']\n",
      "score=0.491, std-score0.01, features#14: ['season' 'holiday' 'workingday' 'temp' 'atemp' 'humidity' 'windspeed'\n",
      " 'month' 'day' 'hour' 'dayofweek' 'weekofyear' 'weekend' 'time_of_day']\n",
      "score=0.48527, std-score0.0145, features#15: ['season' 'holiday' 'workingday' 'weather' 'temp' 'atemp' 'humidity'\n",
      " 'windspeed' 'month' 'day' 'hour' 'dayofweek' 'weekofyear' 'weekend'\n",
      " 'time_of_day']\n",
      "score=0.40036, std-score0.0118, features#16: ['season' 'holiday' 'workingday' 'weather' 'temp' 'atemp' 'humidity'\n",
      " 'windspeed' 'year' 'month' 'day' 'hour' 'dayofweek' 'weekofyear' 'weekend'\n",
      " 'time_of_day']\n"
     ]
    }
   ],
   "source": [
    "_ = find_the_best_features(train, lambda k: SelectKBest(chi2, k))"
   ]
  },
  {
   "cell_type": "code",
   "execution_count": 12,
   "metadata": {
    "collapsed": false
   },
   "outputs": [
    {
     "name": "stdout",
     "output_type": "stream",
     "text": [
      "score=0.73926, std-score0.0147, features#2: ['temp' 'hour']\n",
      "score=0.55187, std-score0.0131, features#3: ['temp' 'hour' 'dayofweek']\n",
      "score=0.52884, std-score0.0195, features#4: ['atemp' 'month' 'hour' 'dayofweek']\n",
      "score=0.43494, std-score0.0123, features#5: ['temp' 'year' 'month' 'hour' 'dayofweek']\n",
      "score=0.41476, std-score0.0081, features#6: ['workingday' 'temp' 'humidity' 'year' 'month' 'hour']\n",
      "score=0.4106, std-score0.017, features#7: ['workingday' 'temp' 'atemp' 'year' 'month' 'hour' 'dayofweek']\n",
      "score=0.41353, std-score0.0291, features#8: ['workingday' 'temp' 'atemp' 'humidity' 'year' 'hour' 'dayofweek'\n",
      " 'weekofyear']\n",
      "score=0.39899, std-score0.0124, features#9: ['workingday' 'temp' 'atemp' 'humidity' 'year' 'month' 'hour' 'dayofweek'\n",
      " 'weekofyear']\n",
      "score=0.38702, std-score0.0131, features#10: ['workingday' 'weather' 'temp' 'atemp' 'humidity' 'year' 'month' 'hour'\n",
      " 'dayofweek' 'weekofyear']\n",
      "score=0.38799, std-score0.0144, features#11: ['workingday' 'weather' 'temp' 'atemp' 'humidity' 'year' 'month' 'hour'\n",
      " 'dayofweek' 'weekofyear' 'weekend']\n",
      "score=0.38961, std-score0.0089, features#12: ['workingday' 'weather' 'temp' 'atemp' 'humidity' 'year' 'month' 'day'\n",
      " 'hour' 'dayofweek' 'weekofyear' 'weekend']\n",
      "score=0.39231, std-score0.0129, features#13: ['workingday' 'weather' 'temp' 'atemp' 'humidity' 'windspeed' 'year'\n",
      " 'month' 'day' 'hour' 'dayofweek' 'weekofyear' 'weekend']\n",
      "score=0.39706, std-score0.0116, features#14: ['workingday' 'weather' 'temp' 'atemp' 'humidity' 'windspeed' 'year'\n",
      " 'month' 'day' 'hour' 'dayofweek' 'weekofyear' 'weekend' 'time_of_day']\n",
      "score=0.40419, std-score0.0157, features#15: ['season' 'workingday' 'weather' 'temp' 'atemp' 'humidity' 'windspeed'\n",
      " 'year' 'month' 'day' 'hour' 'dayofweek' 'weekofyear' 'weekend'\n",
      " 'time_of_day']\n",
      "score=0.39446, std-score0.0142, features#16: ['season' 'holiday' 'workingday' 'weather' 'temp' 'atemp' 'humidity'\n",
      " 'windspeed' 'year' 'month' 'day' 'hour' 'dayofweek' 'weekofyear' 'weekend'\n",
      " 'time_of_day']\n"
     ]
    }
   ],
   "source": [
    "_ = find_the_best_features(train, lambda k: RFE(model, k, step=1))"
   ]
  },
  {
   "cell_type": "markdown",
   "metadata": {},
   "source": [
    "## Model Selection"
   ]
  },
  {
   "cell_type": "code",
   "execution_count": 17,
   "metadata": {
    "collapsed": false
   },
   "outputs": [
    {
     "name": "stdout",
     "output_type": "stream",
     "text": [
      "model_name=extra_tree: score=0.389621006158, features=['season' 'holiday' 'workingday' 'weather' 'temp' 'atemp' 'humidity'\n",
      " 'windspeed' 'year' 'month' 'day' 'hour' 'dayofweek' 'weekofyear' 'weekend'\n",
      " 'time_of_day']\n",
      "\n",
      "model_name=random_forest: score=0.389502295722, features=['workingday' 'weather' 'temp' 'atemp' 'humidity' 'year' 'month' 'hour'\n",
      " 'dayofweek' 'weekofyear' 'weekend']\n",
      "\n",
      "model_name=bagging: score=0.406878732047, features=['season' 'holiday' 'workingday' 'weather' 'temp' 'atemp' 'humidity'\n",
      " 'windspeed' 'year' 'month' 'day' 'hour' 'dayofweek' 'weekofyear' 'weekend'\n",
      " 'time_of_day']\n",
      "\n",
      "model_name=ada boost: score=0.906486451256, features=['temp' 'year' 'hour']\n",
      "\n",
      "model_name=gradient boosting: score=0.652704765137, features=['workingday' 'atemp' 'hour']\n",
      "\n",
      "model_name=decision tree: score=0.490577485883, features=['workingday' 'atemp' 'humidity' 'year' 'month' 'hour' 'dayofweek'\n",
      " 'weekofyear']\n",
      "\n"
     ]
    }
   ],
   "source": [
    "models = [ \n",
    "    ('extra_tree', ExtraTreesRegressor()),\n",
    "    ('random_forest', RandomForestRegressor()),\n",
    "    ('bagging', BaggingRegressor()),\n",
    "    ('ada boost', AdaBoostRegressor()),\n",
    "    ('gradient boosting', GradientBoostingRegressor()),\n",
    "    ('decision tree', DecisionTreeRegressor())\n",
    "]\n",
    "\n",
    "\n",
    "    \n",
    "for model_name, model in models:\n",
    "    try:\n",
    "        results = find_the_best_features(train, lambda k: RFE(model, k, step=1), model=model, verbose=False) #working for trees models\n",
    "    except RuntimeError:\n",
    "        results = find_the_best_features(train, lambda k: SelectKBest(chi2, k), model=model, verbose=False)\n",
    "    the_best_features = results[0][2]\n",
    "    \n",
    "    mean_score, std_score = count_modeling(model, train, the_best_features)\n",
    "    print(\"model_name={0}: score={1}, features={2}\".format(model_name, mean_score, the_best_features))\n",
    "    print(\"\")\n"
   ]
  },
  {
   "cell_type": "markdown",
   "metadata": {},
   "source": [
    "## Questions\n",
    "1. Which model is the fastest/slowest for learning?\n",
    "2. Which model is the fastest/slowest for predicting?\n",
    "3. Which model provide the best/worst score?"
   ]
  },
  {
   "cell_type": "code",
   "execution_count": null,
   "metadata": {
    "collapsed": true
   },
   "outputs": [],
   "source": []
  },
  {
   "cell_type": "code",
   "execution_count": null,
   "metadata": {
    "collapsed": true
   },
   "outputs": [],
   "source": []
  },
  {
   "cell_type": "markdown",
   "metadata": {},
   "source": [
    "# For more advanced\n",
    "\n",
    "## Future Engineering\n",
    "What do you think about grouping something?\n",
    "\n",
    "Example:"
   ]
  },
  {
   "cell_type": "code",
   "execution_count": 52,
   "metadata": {
    "collapsed": false
   },
   "outputs": [],
   "source": [
    "group_train = train[ ['count', 'season'] ].groupby('season').agg(np.mean).reset_index().rename(columns={'count': 'season_group'})\n",
    "train = pd.merge(train, group_train, on=['season'])"
   ]
  },
  {
   "cell_type": "code",
   "execution_count": null,
   "metadata": {
    "collapsed": true
   },
   "outputs": [],
   "source": []
  },
  {
   "cell_type": "markdown",
   "metadata": {},
   "source": [
    "Remember about `casual` and `registered`, so you can predict it separetly and summary later (count = casual + registered)"
   ]
  },
  {
   "cell_type": "code",
   "execution_count": null,
   "metadata": {
    "collapsed": true
   },
   "outputs": [],
   "source": []
  },
  {
   "cell_type": "markdown",
   "metadata": {},
   "source": [
    "Remember about logarithm transformation. Much better is learn/fit & predict log_count and later transform to count."
   ]
  },
  {
   "cell_type": "code",
   "execution_count": null,
   "metadata": {
    "collapsed": true
   },
   "outputs": [],
   "source": []
  },
  {
   "cell_type": "markdown",
   "metadata": {},
   "source": [
    "## Model Selection"
   ]
  },
  {
   "cell_type": "markdown",
   "metadata": {},
   "source": [
    "What about xgboost?"
   ]
  },
  {
   "cell_type": "code",
   "execution_count": 87,
   "metadata": {
    "collapsed": false
   },
   "outputs": [],
   "source": [
    "import xgboost as xgb\n",
    "\n",
    "model = xgb.XGBRegressor()\n",
    "#..."
   ]
  },
  {
   "cell_type": "code",
   "execution_count": 43,
   "metadata": {
    "collapsed": false
   },
   "outputs": [
    {
     "name": "stdout",
     "output_type": "stream",
     "text": [
      "('Are there missing values: ', False)\n"
     ]
    }
   ],
   "source": [
    "print(\"Are there missing values: \", train.isnull().values.any())"
   ]
  },
  {
   "cell_type": "code",
   "execution_count": null,
   "metadata": {
    "collapsed": true
   },
   "outputs": [],
   "source": []
  }
 ],
 "metadata": {
  "kernelspec": {
   "display_name": "Python 2",
   "language": "python",
   "name": "python2"
  },
  "language_info": {
   "codemirror_mode": {
    "name": "ipython",
    "version": 2
   },
   "file_extension": ".py",
   "mimetype": "text/x-python",
   "name": "python",
   "nbconvert_exporter": "python",
   "pygments_lexer": "ipython2",
   "version": "2.7.11"
  }
 },
 "nbformat": 4,
 "nbformat_minor": 0
}
