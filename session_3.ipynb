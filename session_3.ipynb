{
 "cells": [
  {
   "cell_type": "code",
   "execution_count": 1,
   "metadata": {
    "collapsed": true
   },
   "outputs": [],
   "source": [
    "import pandas as pd\n",
    "import numpy as np\n",
    "\n",
    "from sklearn.linear_model import LinearRegression, Lasso, ElasticNet, BayesianRidge, ARDRegression\n",
    "from sklearn.ensemble import ExtraTreesRegressor, RandomForestRegressor, AdaBoostRegressor, BaggingRegressor, GradientBoostingRegressor\n",
    "from sklearn.tree import DecisionTreeRegressor\n",
    "\n",
    "from sklearn.cross_validation import LabelKFold\n",
    "from ml_metrics import rmsle\n",
    "\n",
    "import seaborn as sns\n",
    "import matplotlib.pyplot as plt\n",
    "%matplotlib inline"
   ]
  },
  {
   "cell_type": "code",
   "execution_count": 2,
   "metadata": {
    "collapsed": true
   },
   "outputs": [],
   "source": [
    "train = pd.read_csv('train.csv', parse_dates=['datetime'])"
   ]
  },
  {
   "cell_type": "code",
   "execution_count": 3,
   "metadata": {
    "collapsed": true
   },
   "outputs": [],
   "source": [
    "def select_features(data):\n",
    "    black_list = ['casual', 'registered', 'count', 'is_test', 'datetime']\n",
    "    return [feat for feat in data.columns if feat not in black_list]\n",
    "    \n",
    "def get_X_y(data, target_var='count'):\n",
    "    features = select_features(data)\n",
    "    return data[features].values, data[target_var].values\n",
    "\n",
    "def validation(data, n_folds=3):\n",
    "    feats = select_features(data)\n",
    "    X = data[feats].values\n",
    "    y = data['count'].values\n",
    "\n",
    "    labels = data['datetime'].dt.month.values\n",
    "    \n",
    "    for train_idx, test_idx in LabelKFold(labels, n_folds=n_folds):\n",
    "        yield X[train_idx], X[test_idx], y[train_idx], y[test_idx]\n",
    "\n",
    "def get_importance_features(data, model, limit, target_variable):\n",
    "    X,y = get_X_y(data, target_variable)\n",
    "    cols = select_features(data)\n",
    "    \n",
    "    model.fit(X, y)\n",
    "    feats = pd.DataFrame(model.feature_importances_, index=data[cols].columns)\n",
    "    feats = feats.sort_values(by=[0], ascending=False) [:limit]\n",
    "    return feats.rename(columns={0:'name'})\n",
    "    \n",
    "def draw_importance_features(data, model=RandomForestRegressor(), limit=30, target_variable='count'):\n",
    "    feats = get_importance_features(data, model, limit, target_variable)\n",
    "    feats.plot(kind='bar', figsize=(20, 8), title=\"Target variable = {0}\".format(target_variable))\n",
    "    \n",
    "    \n",
    "def count_modeling(model, data, feats, n_folds=3):\n",
    "    X,y  = data[feats].values, data['count'].values\n",
    "\n",
    "    labels = data['datetime'].dt.month.values\n",
    "    \n",
    "    scores = []\n",
    "    for train_idx, test_idx in LabelKFold(labels, n_folds=n_folds):\n",
    "        model.fit(X[train_idx], y[train_idx])\n",
    "        y_pred = model.predict(X[test_idx])\n",
    "        y_pred[y_pred <0 ] = 0\n",
    "        scores.append(rmsle(y[test_idx], y_pred))\n",
    "        \n",
    "    return np.mean(scores), np.std(scores)"
   ]
  },
  {
   "cell_type": "markdown",
   "metadata": {},
   "source": [
    "## Feature Engineering\n",
    "\n",
    "There're different type of variables:\n",
    "- numerical (integer or float)\n",
    "    - put into different buckets, e.g. you can split age in number into buckets: **children**, **teenagers**, **adults**, **old**\n",
    "- categorical (e.g. colours blue, white, black)\n",
    "    - convert into numerical, e.g. a, b, c => 0, 1, 2\n",
    "    - one hot encoding: crate from one column, n-columns binary, where n is count of unique value\n",
    "    - convert into probability\n",
    "- date|datetim\n",
    "    - extract day, month, year\n",
    "    - get extra information from excracted parts for day, e.g. is_wekeend, is_holiday in given country and so on"
   ]
  },
  {
   "cell_type": "code",
   "execution_count": 4,
   "metadata": {
    "collapsed": false
   },
   "outputs": [],
   "source": [
    "def cat_hour(hour):\n",
    "    if 5 >= hour < 10:\n",
    "        return 1#morning\n",
    "    elif 10 >= hour < 17:\n",
    "        return 2#day\n",
    "    elif 17 >= hour < 23:\n",
    "        return 3 #evening\n",
    "    else:\n",
    "        return 4 #night\n",
    "    \n",
    "def feature_engineering(data):\n",
    "    data['year'] = data['datetime'].dt.year\n",
    "    # you cand add: month, day, hour, minute, dayofweek, weekofyear\n",
    "    \n",
    "    data['month'] = data['datetime'].dt.month\n",
    "    data['day'] = data['datetime'].dt.day\n",
    "    data['hour'] = data['datetime'].dt.hour\n",
    "    data['minute'] = data['datetime'].dt.minute\n",
    "    data['dayofweek'] = data['datetime'].dt.dayofweek\n",
    "    data['weekofyear'] = data['datetime'].dt.weekofyear\n",
    "    \n",
    "\n",
    "    #you can think in this way as well:\n",
    "    data['weekend'] = data.dayofweek.map(lambda x: int(x in [5,6]) )\n",
    "    data['time_of_day'] = data['hour'].map(cat_hour)\n",
    "    \n",
    "    \n",
    "feature_engineering(train)"
   ]
  },
  {
   "cell_type": "code",
   "execution_count": 5,
   "metadata": {
    "collapsed": false
   },
   "outputs": [
    {
     "data": {
      "image/png": "[encoded data removed]",
      "text/plain": [
       "<matplotlib.figure.Figure at 0x119c7a610>"
      ]
     },
     "metadata": {},
     "output_type": "display_data"
    }
   ],
   "source": [
    "draw_importance_features(train, target_variable='count')"
   ]
  },
  {
   "cell_type": "code",
   "execution_count": 6,
   "metadata": {
    "collapsed": false
   },
   "outputs": [
    {
     "data": {
      "text/plain": [
       "(0.39576970356681679, 0.014026515141310134)"
      ]
     },
     "execution_count": 6,
     "metadata": {},
     "output_type": "execute_result"
    }
   ],
   "source": [
    "model = RandomForestRegressor()\n",
    "feats = select_features(train)\n",
    "count_modeling(model, train, feats)"
   ]
  },
  {
   "cell_type": "markdown",
   "metadata": {},
   "source": [
    "## Feature Selection"
   ]
  },
  {
   "cell_type": "code",
   "execution_count": 7,
   "metadata": {
    "collapsed": false
   },
   "outputs": [
    {
     "name": "stdout",
     "output_type": "stream",
     "text": [
      "set(['holiday', 'weekend', 'minute', 'workingday'])\n"
     ]
    }
   ],
   "source": [
    "from sklearn.feature_selection import VarianceThreshold\n",
    "from sklearn.feature_selection import SelectKBest\n",
    "from sklearn.feature_selection import chi2\n",
    "from sklearn.feature_selection import RFE\n",
    "\n",
    "feats = select_features(train)\n",
    "\n",
    "\n",
    "sel = VarianceThreshold(threshold=(.6 * (1 - .6)))\n",
    "sel.fit_transform(train[feats], train['count']).shape\n",
    "print set(np.array(feats)) - set(np.array(feats)[sel.get_support()])\n"
   ]
  },
  {
   "cell_type": "code",
   "execution_count": 8,
   "metadata": {
    "collapsed": false
   },
   "outputs": [
    {
     "data": {
      "text/plain": [
       "[(0.3947,\n",
       "  ['dayofweek',\n",
       "   'holiday',\n",
       "   'hour',\n",
       "   'temp',\n",
       "   'time_of_day',\n",
       "   'season',\n",
       "   'atemp',\n",
       "   'humidity',\n",
       "   'workingday',\n",
       "   'windspeed',\n",
       "   'weather',\n",
       "   'weekofyear',\n",
       "   'year',\n",
       "   'month',\n",
       "   'weekend',\n",
       "   'day']),\n",
       " (0.4867,\n",
       "  ['dayofweek',\n",
       "   'holiday',\n",
       "   'hour',\n",
       "   'temp',\n",
       "   'time_of_day',\n",
       "   'season',\n",
       "   'atemp',\n",
       "   'humidity',\n",
       "   'workingday',\n",
       "   'windspeed',\n",
       "   'weather',\n",
       "   'weekofyear',\n",
       "   'month',\n",
       "   'weekend',\n",
       "   'day']),\n",
       " (0.4878,\n",
       "  ['dayofweek',\n",
       "   'holiday',\n",
       "   'hour',\n",
       "   'temp',\n",
       "   'season',\n",
       "   'weekend',\n",
       "   'atemp',\n",
       "   'month',\n",
       "   'time_of_day',\n",
       "   'windspeed',\n",
       "   'weekofyear',\n",
       "   'humidity',\n",
       "   'workingday',\n",
       "   'day']),\n",
       " (0.4934,\n",
       "  ['dayofweek',\n",
       "   'holiday',\n",
       "   'hour',\n",
       "   'temp',\n",
       "   'season',\n",
       "   'atemp',\n",
       "   'month',\n",
       "   'time_of_day',\n",
       "   'windspeed',\n",
       "   'weekofyear',\n",
       "   'humidity',\n",
       "   'weekend',\n",
       "   'day']),\n",
       " (0.4948,\n",
       "  ['dayofweek',\n",
       "   'holiday',\n",
       "   'hour',\n",
       "   'temp',\n",
       "   'atemp',\n",
       "   'month',\n",
       "   'time_of_day',\n",
       "   'windspeed',\n",
       "   'weekofyear',\n",
       "   'humidity',\n",
       "   'weekend',\n",
       "   'day'])]"
      ]
     },
     "execution_count": 8,
     "metadata": {},
     "output_type": "execute_result"
    }
   ],
   "source": [
    "def find_the_best_features(data, sel_class, model=RandomForestRegressor(), range_k = range(2, 17), show_top=5):\n",
    "    feats = select_features(data)\n",
    "    X,y = data[feats], data['count']\n",
    "\n",
    "    results = []\n",
    "    for k in range_k:\n",
    "        sel = sel_class(k)\n",
    "        X_new = sel.fit_transform(X, y)\n",
    "\n",
    "        new_feats = list(set(np.array(feats)[sel.get_support()]) & set(np.array(feats)))\n",
    "        mean_score, std_score = (count_modeling(model, train, new_feats))\n",
    "        results.append( (mean_score, std_score, new_feats) )\n",
    "\n",
    "\n",
    "    return [ (round(x[0], 4), list(x[2])) for x in sorted(results, key=lambda x: x[0])[:show_top] ]\n",
    "\n",
    "find_the_best_features(train, lambda k: SelectKBest(chi2, k))"
   ]
  },
  {
   "cell_type": "code",
   "execution_count": 80,
   "metadata": {
    "collapsed": false
   },
   "outputs": [
    {
     "data": {
      "text/plain": [
       "[(0.3679,\n",
       "  \"['dayofweek', 'hour', 'temp', 'humidity', 'workingday', 'atemp', 'weather', 'weekofyear', 'year', 'month', 'weekend', 'day']\"),\n",
       " (0.3685,\n",
       "  \"['dayofweek', 'hour', 'temp', 'atemp', 'humidity', 'workingday', 'windspeed', 'weather', 'weekofyear', 'year', 'month', 'weekend', 'day']\"),\n",
       " (0.3732,\n",
       "  \"['dayofweek', 'hour', 'weekofyear', 'workingday', 'atemp', 'temp', 'year']\"),\n",
       " (0.3734,\n",
       "  \"['dayofweek', 'hour', 'temp', 'humidity', 'workingday', 'atemp', 'weather', 'weekofyear', 'year', 'month', 'weekend']\"),\n",
       " (0.3735,\n",
       "  \"['dayofweek', 'hour', 'temp', 'humidity', 'workingday', 'atemp', 'year', 'month']\")]"
      ]
     },
     "execution_count": 80,
     "metadata": {},
     "output_type": "execute_result"
    }
   ],
   "source": [
    "find_the_best_features(train, lambda k: RFE(model, k, step=1))"
   ]
  },
  {
   "cell_type": "markdown",
   "metadata": {},
   "source": [
    "## Model Selection"
   ]
  },
  {
   "cell_type": "code",
   "execution_count": 85,
   "metadata": {
    "collapsed": false
   },
   "outputs": [
    {
     "name": "stdout",
     "output_type": "stream",
     "text": [
      "extra_tree: 0.373520965298, ['dayofweek', 'holiday', 'hour', 'temp', 'time_of_day', 'season', 'atemp', 'humidity', 'workingday', 'windspeed', 'weather', 'weekofyear', 'year', 'month', 'weekend', 'day']\n",
      "random_forest: 0.369065437783, ['hour', 'humidity']\n",
      "bagging: 0.378435613843, ['dayofweek', 'holiday', 'hour', 'temp', 'time_of_day', 'season', 'atemp', 'humidity', 'workingday', 'windspeed', 'weather', 'weekofyear', 'month', 'weekend', 'day']\n",
      "ada boost: 1.05376107975, ['hour', 'humidity']\n",
      "gradient boosting: nan, ['dayofweek', 'holiday', 'hour', 'temp', 'time_of_day', 'season', 'atemp', 'humidity', 'workingday', 'windspeed', 'weather', 'weekofyear', 'year', 'month', 'weekend', 'day']\n",
      "decision tree: 0.467873687739, ['weekofyear', 'hour', 'windspeed', 'humidity', 'time_of_day', 'atemp', 'temp']\n"
     ]
    }
   ],
   "source": [
    "models = [ \n",
    "    ('extra_tree', ExtraTreesRegressor()),\n",
    "    ('random_forest', RandomForestRegressor()),\n",
    "    ('bagging', BaggingRegressor()),\n",
    "    ('ada boost', AdaBoostRegressor()),\n",
    "    ('gradient boosting', GradientBoostingRegressor()),\n",
    "    ('decision tree', DecisionTreeRegressor())\n",
    "]\n",
    "\n",
    "\n",
    "    \n",
    "for model_name, model in models:\n",
    "    #results = find_the_best_features(train, lambda k: RFE(model, k, step=1))\n",
    "    results = find_the_best_features(train, lambda k: SelectKBest(chi2, k))\n",
    "    the_best_features = results[0][1]\n",
    "    \n",
    "    mean_score, std_score = count_modeling(model, train, the_best_features)\n",
    "    print(\"{0}: {1}, {2}\".format(model_name, mean_score, the_best_features))\n",
    "    \n"
   ]
  },
  {
   "cell_type": "markdown",
   "metadata": {},
   "source": [
    "## Questions\n",
    "1. Which model is the fastest/slowest for learning?\n",
    "2. Which model is the fastest/slowest for predicting?\n",
    "3. Which model provide the best/worst score?"
   ]
  },
  {
   "cell_type": "code",
   "execution_count": null,
   "metadata": {
    "collapsed": true
   },
   "outputs": [],
   "source": []
  },
  {
   "cell_type": "code",
   "execution_count": null,
   "metadata": {
    "collapsed": true
   },
   "outputs": [],
   "source": []
  },
  {
   "cell_type": "markdown",
   "metadata": {},
   "source": [
    "# For more advanced\n",
    "\n",
    "## Future Engineering\n",
    "What do you think about grouping something?\n",
    "\n",
    "Example:"
   ]
  },
  {
   "cell_type": "code",
   "execution_count": 52,
   "metadata": {
    "collapsed": false
   },
   "outputs": [],
   "source": [
    "group_train = train[ ['count', 'season'] ].groupby('season').agg(np.mean).reset_index().rename(columns={'count': 'season_group'})\n",
    "train = pd.merge(train, group_train, on=['season'])"
   ]
  },
  {
   "cell_type": "code",
   "execution_count": null,
   "metadata": {
    "collapsed": true
   },
   "outputs": [],
   "source": []
  },
  {
   "cell_type": "markdown",
   "metadata": {},
   "source": [
    "Remember about `casual` and `registered`, so you can predict it separetly and summary later (count = casual + registered)"
   ]
  },
  {
   "cell_type": "code",
   "execution_count": null,
   "metadata": {
    "collapsed": true
   },
   "outputs": [],
   "source": []
  },
  {
   "cell_type": "markdown",
   "metadata": {},
   "source": [
    "Remember about logarithm transformation. Much better is learn/fit & predict log_count and later transform to count."
   ]
  },
  {
   "cell_type": "code",
   "execution_count": null,
   "metadata": {
    "collapsed": true
   },
   "outputs": [],
   "source": []
  },
  {
   "cell_type": "markdown",
   "metadata": {},
   "source": [
    "## Model Selection"
   ]
  },
  {
   "cell_type": "markdown",
   "metadata": {},
   "source": [
    "What about xgboost?"
   ]
  },
  {
   "cell_type": "code",
   "execution_count": 87,
   "metadata": {
    "collapsed": false
   },
   "outputs": [],
   "source": [
    "import xgboost as xgb\n",
    "\n",
    "model = xgb.XGBRegressor()\n",
    "#..."
   ]
  },
  {
   "cell_type": "code",
   "execution_count": 43,
   "metadata": {
    "collapsed": false
   },
   "outputs": [
    {
     "name": "stdout",
     "output_type": "stream",
     "text": [
      "('Are there missing values: ', False)\n"
     ]
    }
   ],
   "source": [
    "print(\"Are there missing values: \", train.isnull().values.any())"
   ]
  },
  {
   "cell_type": "code",
   "execution_count": null,
   "metadata": {
    "collapsed": true
   },
   "outputs": [],
   "source": []
  }
 ],
 "metadata": {
  "kernelspec": {
   "display_name": "Python 2",
   "language": "python",
   "name": "python2"
  },
  "language_info": {
   "codemirror_mode": {
    "name": "ipython",
    "version": 2
   },
   "file_extension": ".py",
   "mimetype": "text/x-python",
   "name": "python",
   "nbconvert_exporter": "python",
   "pygments_lexer": "ipython2",
   "version": "2.7.11"
  }
 },
 "nbformat": 4,
 "nbformat_minor": 0
}
