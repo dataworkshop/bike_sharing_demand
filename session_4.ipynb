{
 "cells": [
  {
   "cell_type": "code",
   "execution_count": 1,
   "metadata": {
    "collapsed": false
   },
   "outputs": [],
   "source": [
    "import pandas as pd\n",
    "import numpy as np\n",
    "\n",
    "import xgboost as xgb\n",
    "from sklearn.ensemble import ExtraTreesRegressor, RandomForestRegressor, BaggingRegressor, GradientBoostingRegressor\n",
    "from ml_metrics import rmsle\n",
    "from sklearn.cross_validation import LabelKFold\n",
    "from sklearn.grid_search import ParameterGrid\n",
    "\n",
    "import seaborn as sns\n",
    "%matplotlib inline"
   ]
  },
  {
   "cell_type": "code",
   "execution_count": 2,
   "metadata": {
    "collapsed": false
   },
   "outputs": [],
   "source": [
    "train = pd.read_csv('train.csv', parse_dates=['datetime'])\n",
    "test = pd.read_csv('test.csv', parse_dates=['datetime'])\n",
    "\n",
    "df_all = train.append(test)\n",
    "\n",
    "df_all['count_log'] = np.log( df_all['count'] + 1 )\n",
    "df_all['casual_log'] = np.log( df_all['casual'] + 1 )\n",
    "df_all['registered_log'] = np.log( df_all['registered'] + 1 )\n",
    "\n",
    "df_all['is_test'] = df_all['count'].isnull()"
   ]
  },
  {
   "cell_type": "code",
   "execution_count": 3,
   "metadata": {
    "collapsed": true
   },
   "outputs": [],
   "source": [
    "def select_features(data):\n",
    "    black_list = ['casual', 'registered', 'count', 'is_test', 'datetime', 'count_log', 'casual_log', 'registered_log']\n",
    "    return [feat for feat in data.columns if feat not in black_list]\n",
    "    \n",
    "def get_X_y(data, target_var='count'):\n",
    "    features = select_features(data)\n",
    "    return data[features].values, data[target_var].values"
   ]
  },
  {
   "cell_type": "code",
   "execution_count": 4,
   "metadata": {
    "collapsed": false
   },
   "outputs": [
    {
     "name": "stderr",
     "output_type": "stream",
     "text": [
      "/Users/vova/miniconda2/lib/python2.7/site-packages/ipykernel/__main__.py:28: SettingWithCopyWarning: \n",
      "A value is trying to be set on a copy of a slice from a DataFrame.\n",
      "Try using .loc[row_indexer,col_indexer] = value instead\n",
      "\n",
      "See the caveats in the documentation: http://pandas.pydata.org/pandas-docs/stable/indexing.html#indexing-view-versus-copy\n"
     ]
    }
   ],
   "source": [
    "def cat_hour(hour):\n",
    "    if 5 >= hour < 10:\n",
    "        return 1#morning\n",
    "    elif 10 >= hour < 17:\n",
    "        return 2#day\n",
    "    elif 17 >= hour < 23:\n",
    "        return 3 #evening\n",
    "    else:\n",
    "        return 4 #night\n",
    "    \n",
    "def feature_engineering(data):\n",
    "    data['year'] = data['datetime'].dt.year\n",
    "    data['diff_year'] = data['year'] - 2010\n",
    "    data['month'] = data['datetime'].dt.month\n",
    "    data['day'] = data['datetime'].dt.day\n",
    "    data['hour'] = data['datetime'].dt.hour\n",
    "    data['minute'] = data['datetime'].dt.minute\n",
    "    data['dayofweek'] = data['datetime'].dt.dayofweek\n",
    "    data['weekofyear'] = data['datetime'].dt.weekofyear\n",
    "    data['weekend'] = data.dayofweek.map(lambda x: int(x in [5,6]) )\n",
    "    data['time_of_day'] = data['hour'].map(cat_hour)\n",
    "    \n",
    "    data['dayofyear'] = data['datetime'].dt.dayofyear\n",
    "    data['day_'] = data[ ['year', 'dayofyear'] ].apply(lambda x: x['dayofyear'] + int(str(x['year'])[-1]) * 365  , axis=1)\n",
    "    \n",
    "    data['rush_hour'] = data['datetime'].apply(lambda i: min([np.fabs(9-i.hour), np.fabs(20-i.hour)]))\n",
    "    data.loc[:,('rush_hour')] = data['datetime'].apply(lambda i: np.fabs(14-i.hour))\n",
    "    data[data['workingday'] != 0]['rush_hour'] = 0\n",
    "    \n",
    "    data['holiday'] = data[['month', 'day', 'holiday', 'year']].apply(lambda x: (x['holiday'], 1)[x['year'] == 2012 and x['month'] == 10 and (x['day'] in [30])], axis = 1)\n",
    "\n",
    "    #christmas day and others\n",
    "    data['holiday'] = data[['month', 'day', 'holiday']].apply(lambda x: (x['holiday'], 1)[x['month'] == 12 and (x['day'] in [24, 26, 31])], axis = 1)\n",
    "    data['workingday'] = data[['month', 'day', 'workingday']].apply(lambda x: (x['workingday'], 0)[x['month'] == 12 and x['day'] in [24, 31]], axis = 1)\n",
    "    \n",
    "    data['peak'] = data[['hour', 'workingday']].apply(lambda x: (0, 1)[(x['workingday'] == 1 and  ( x['hour'] == 8 or 17 <= x['hour'] <= 18 or 12 <= x['hour'] <= 12)) or (x['workingday'] == 0 and  10 <= x['hour'] <= 19)], axis = 1)\n",
    "    \n",
    "    \n",
    "    data['sticky'] = data[['humidity', 'workingday']].apply(lambda x: (0, 1)[x['workingday'] == 1 and x['humidity'] >= 60], axis = 1)\n",
    "    \n",
    "\n",
    "    if not 'count_season' in data:\n",
    "        by_season = data[False == data.is_test].groupby('season')[['count_log']].agg(sum)\n",
    "        by_season.columns = ['count_season']\n",
    "        data = data.join(by_season, on='season')\n",
    "    \n",
    "    return data\n",
    "\n",
    "df_all = feature_engineering(df_all)"
   ]
  },
  {
   "cell_type": "code",
   "execution_count": 676,
   "metadata": {
    "collapsed": false
   },
   "outputs": [],
   "source": [
    "# # def train_test_split(data, cutoff_day = 15):\n",
    "# #     df_train = data[ data.datetime.dt.day <= cutoff_day]\n",
    "# #     df_test = data[ data.datetime.dt.day > cutoff_day]\n",
    "\n",
    "# #     return df_train, df_test\n",
    "\n",
    "# # def get_train_test_X_y(train, target_var='count'):\n",
    "# #     df_train, df_test = train_test_split(train)\n",
    "# #     X_train, y_train = get_X_y(df_train, target_var)\n",
    "# #     X_test, y_test = get_X_y(df_test, target_var)\n",
    "\n",
    "# #     return X_train, y_train, X_test, y_test\n",
    "\n",
    "# def score(y_test, y_pred):\n",
    "#     y_pred[ y_pred < 0] = 0\n",
    "#     return rmsle(y_test, y_pred)\n",
    "\n",
    "# def evaluate_model_count(model, train):\n",
    "#     X_train, y_train, X_test, y_test = get_train_test_X_y(train, 'count')\n",
    "#     model.fit(X_train, y_train)\n",
    "    \n",
    "#     return score(y_test, model.predict(X_test))\n",
    "\n",
    "\n",
    "# def _evaluate_model_count_log(model, data):\n",
    "#     df_train, df_test = train_test_split(data)\n",
    "#     feats = select_features(data)\n",
    "    \n",
    "#     X_train, X_test = df_train[feats], df_test[feats]\n",
    "#     y_train, y_test = df_train['count_log'], df_test['count']\n",
    "    \n",
    "#     model.fit(X_train, y_train)\n",
    "#     y_pred_log = model.predict(X_test)\n",
    "#     y_pred = np.exp( y_pred_log ) - 1\n",
    "#     return y_test, y_pred\n",
    "    \n",
    "# def evaluate_model_count_log(model, data):\n",
    "#     y_test, y_pred = _evaluate_model_count_log(model, data)\n",
    "#     return score(y_test, y_pred)\n",
    "\n",
    "\n",
    "# def _evaluate_model_reg_cas_log(model, data):\n",
    "#     df_train, df_test = train_test_split(data)\n",
    "#     feats = select_features(data)\n",
    "    \n",
    "#     X_train, X_test = df_train[feats], df_test[feats]\n",
    "#     y_reg_train = df_train['registered_log']\n",
    "#     y_cas_train = df_train['casual_log']\n",
    "#     y_test = df_test['count']\n",
    "    \n",
    "#     model.fit(X_train, y_reg_train)\n",
    "#     y_pred_reg_log = model.predict(X_test)\n",
    "#     y_pred_reg = np.exp( y_pred_reg_log ) - 1\n",
    "    \n",
    "#     model.fit(X_train, y_cas_train)\n",
    "#     y_pred_cas_log = model.predict(X_test)\n",
    "#     y_pred_cas = np.exp( y_pred_cas_log ) - 1\n",
    "    \n",
    "#     return y_test, y_pred_reg, y_pred_cas\n",
    "    \n",
    "\n",
    "# def evaluate_model_reg_cas_log(model, data):\n",
    "#     y_test, y_pred_reg, y_pred_cas = _evaluate_model_reg_cas_log(model, data)\n",
    "#     y_pred = y_pred_reg + y_pred_cas\n",
    "    \n",
    "#     return score(y_test, y_pred)\n",
    "\n",
    "\n",
    "# def evaluate_model_count_reg_cas_log(model, data):\n",
    "#     y_test, y_pred_count = _evaluate_model_count_log(model, data)\n",
    "#     _, y_pred_reg, y_pred_cas = _evaluate_model_reg_cas_log(model, data)\n",
    "    \n",
    "#     y_pred = .5*y_pred_count + .5*(y_pred_reg + y_pred_cas)\n",
    "    \n",
    "#     return score(y_test, y_pred)"
   ]
  },
  {
   "cell_type": "code",
   "execution_count": 677,
   "metadata": {
    "collapsed": false
   },
   "outputs": [],
   "source": [
    "# df_t = df_all[~df_all.is_test]\n",
    "\n",
    "# gbm_params = {'n_estimators': 150, 'max_depth': 5, 'random_state': 0, 'min_samples_leaf' : 10, 'learning_rate': 0.1, 'subsample': 0.7, 'loss': 'ls'}\n",
    "# model = GradientBoostingRegressor(**gbm_params)\n",
    "\n",
    "# model = xgb.XGBRegressor(n_estimators=300, learning_rate=0.05, max_depth=5, subsample=0.7, colsample_bytree=0.7)\n",
    "\n",
    "\n",
    "\n",
    "# print evaluate_model_count(model, df_t)\n",
    "# print evaluate_model_count_log(model, df_t)\n",
    "# print evaluate_model_reg_cas_log(model, df_t)\n",
    "# print evaluate_model_count_reg_cas_log(model, df_t)"
   ]
  },
  {
   "cell_type": "markdown",
   "metadata": {},
   "source": [
    "## Modeling"
   ]
  },
  {
   "cell_type": "code",
   "execution_count": 6,
   "metadata": {
    "collapsed": false
   },
   "outputs": [
    {
     "name": "stdout",
     "output_type": "stream",
     "text": [
      "('n_fold: ', 0)\n",
      "('n_fold: ', 1)\n",
      "('n_fold: ', 2)\n",
      "0.40171114054 0.0141173038414 [0.4208501707225773, 0.38722018822134413, 0.3970630626767932]\n"
     ]
    }
   ],
   "source": [
    "def modeling(models, data):    \n",
    "    labels = data['month'].values\n",
    "    #feats = select_features(data)\n",
    "    \n",
    "    scores = []\n",
    "    for n_fold, (train_idx, test_idx) in enumerate(LabelKFold(labels, n_folds=3)):\n",
    "        print(\"n_fold: \", n_fold)\n",
    "        for weight_model, feats, model in models:\n",
    "            X = data[feats].values\n",
    "            \n",
    "            X_train, X_test = X[train_idx], X[test_idx]\n",
    "            y_reg_train = data['registered_log'][train_idx].astype('float')\n",
    "            y_cas_train = data['casual_log'][train_idx].astype('float')\n",
    "            y_test = data['count'][test_idx].astype('float')\n",
    "\n",
    "            y_pred = np.array([0.] * len(y_test))\n",
    "        \n",
    "            model.fit(X_train, y_reg_train)\n",
    "            y_pred_reg_log = model.predict(X_test)\n",
    "            y_pred_reg = np.exp( y_pred_reg_log ) - 1\n",
    "\n",
    "            model.fit(X_train, y_cas_train)\n",
    "            y_pred_cas_log = model.predict(X_test)\n",
    "            y_pred_cas = np.exp( y_pred_cas_log ) - 1\n",
    "\n",
    "            y_pred += weight_model * (y_pred_reg + y_pred_cas)\n",
    "            \n",
    "        score = rmsle(y_test, y_pred)\n",
    "        scores.append(score)\n",
    "        \n",
    "    print np.mean(scores), np.std(scores), scores\n",
    "        \n",
    "\n",
    "#0.36234  vs 0.332       \n",
    "xgb_params = {'n_estimators':150,  'learning_rate':0.1, 'max_depth':5, 'subsample':0.6, 'colsample_bytree': 0.8}\n",
    "xgb_model = xgb.XGBRegressor(**xgb_params)\n",
    "\n",
    "#0.36267 vs 0.333\n",
    "#gbm_params = {'n_estimators': 150, 'max_depth': 5, 'random_state': 2, 'min_samples_leaf' : 15, 'learning_rate': 0.1, 'subsample': 0.8, 'loss': 'huber'}\n",
    "gbm_params = {'n_estimators': 150, 'max_depth': 5, 'random_state': 0, 'min_samples_leaf' : 10, 'learning_rate': 0.1, 'subsample': 0.7, 'loss': 'ls'}\n",
    "gbm_model = GradientBoostingRegressor(**gbm_params)\n",
    "\n",
    "#1000 => 0.443; 100 => 0.445\n",
    "#       0.44606\n",
    "#rf_params = {'n_estimators': 1000, 'max_depth': 15, 'random_state': 0, 'min_samples_split' : 5, 'n_jobs': -1}\n",
    "rf_params = {'n_estimators': 1000, 'max_depth': 15, 'random_state': 0, 'min_samples_split' : 5, 'n_jobs': -1}\n",
    "rf_model = RandomForestRegressor(**rf_params)\n",
    "\n",
    "#kaggle 0.43164 vs 0.433\n",
    "et_params = {'n_estimators': 300, 'min_samples_leaf': 5, 'random_state': 0, 'min_samples_split': 2}\n",
    "et_model = ExtraTreesRegressor(**et_params)\n",
    "\n",
    "bag_params = {'n_estimators': 100, 'max_samples': .8, 'max_features': .8, 'random_state': 0, 'n_jobs': -1}\n",
    "bag_model = BaggingRegressor(**bag_params)\n",
    "\n",
    "feats_one = ['weather', 'temp', 'atemp', 'humidity', 'windspeed', 'holiday', 'workingday', 'season','hour', 'dayofweek', 'year']\n",
    "feats_two = ['weather', 'temp', 'atemp', 'windspeed', 'workingday', 'season', 'hour', 'dayofweek', 'weekofyear']\n",
    "\n",
    "gbm_cols = [\n",
    "    'weather', 'temp', 'atemp', 'humidity', 'windspeed',\n",
    "    'holiday', 'workingday', 'season',\n",
    "    'hour', 'dayofweek', 'year'\n",
    "]\n",
    "\n",
    "rf_cols = [\n",
    "    'weather', 'temp', 'atemp', 'windspeed',\n",
    "    'workingday', 'season', 'holiday', 'sticky',\n",
    "    'hour', 'dayofweek', 'weekofyear', 'peak'\n",
    "    ]\n",
    "\n",
    "\n",
    "models = [\n",
    "   #(1., feats_two, bag_model)\n",
    "   #(1., feats_two, et_model),\n",
    "   (.2, rf_cols, rf_model),\n",
    "   #(.8, feats_one, xgb_model),\n",
    "   #(.1, feats_two, xgb_model),\n",
    "   (.8, gbm_cols, gbm_model)\n",
    "]\n",
    "\n",
    "modeling(models, df_all[~df_all.is_test])"
   ]
  },
  {
   "cell_type": "code",
   "execution_count": 8,
   "metadata": {
    "collapsed": false
   },
   "outputs": [
    {
     "data": {
      "image/png": "[encoded data removed]",
      "text/plain": [
       "<matplotlib.figure.Figure at 0x11ca85350>"
      ]
     },
     "metadata": {},
     "output_type": "display_data"
    }
   ],
   "source": [
    "def get_importance_features(data, model, limit, target_variable):\n",
    "    X,y = get_X_y(data, target_variable)\n",
    "    cols = select_features(data)\n",
    "    \n",
    "    model.fit(X, y)\n",
    "    feats = pd.DataFrame(model.feature_importances_, index=data[cols].columns)\n",
    "    feats = feats.sort_values(by=[0], ascending=False) [:limit]\n",
    "    return feats.rename(columns={0:'name'})\n",
    "    \n",
    "def draw_importance_features(data, model=RandomForestRegressor(), limit=30, target_variable='count'):\n",
    "    feats = get_importance_features(data, model, limit, target_variable)\n",
    "    feats.plot(kind='bar', figsize=(20, 8), title=\"Target variable = {0}\".format(target_variable))\n",
    "    \n",
    "df_t = df_all[~df_all.is_test]\n",
    "df_ts = df_t[ ['count_log', 'weather', 'temp', 'atemp', 'windspeed', 'workingday', 'season', 'holiday', 'hour', 'dayofweek', 'weekofyear'] ]    \n",
    "draw_importance_features(df_ts, target_variable='count_log')"
   ]
  },
  {
   "cell_type": "code",
   "execution_count": 682,
   "metadata": {
    "collapsed": true
   },
   "outputs": [],
   "source": [
    "def tuning_models():\n",
    "    rf_params = {\n",
    "        'n_estimators': [100, 150, 200], \n",
    "        'min_samples_split': [5, 15, 25], \n",
    "        'n_jobs': [-1],\n",
    "        'min_samples_leaf': [1, 2, 3]\n",
    "    }\n",
    "\n",
    "    bagging_params = {\n",
    "        'n_estimators': [100, 150, 170, 180, 200],\n",
    "        'n_jobs': [-1],\n",
    "    }\n",
    "\n",
    "    extratree_params = {\n",
    "        'n_estimators': [50, 100, 150],\n",
    "        'min_samples_leaf': [1, 2],\n",
    "        'min_samples_split': [2, 5, 7, 9],\n",
    "        'n_jobs': [-1],\n",
    "    }\n",
    "\n",
    "    yield (extratree_params, 'extra_tree', ExtraTreesRegressor)\n",
    "    yield (rf_params, 'random_forest', RandomForestRegressor)\n",
    "    yield (bagging_params, 'bagging', BaggingRegressor)"
   ]
  },
  {
   "cell_type": "code",
   "execution_count": 683,
   "metadata": {
    "collapsed": false
   },
   "outputs": [
    {
     "name": "stdout",
     "output_type": "stream",
     "text": [
      "extra_tree\n",
      "random_forest\n",
      "bagging\n",
      "TOP 5\n",
      "[]\n"
     ]
    }
   ],
   "source": [
    "X_train, y_train_reg, X_test, y_test_reg = get_train_test_X_y(df_all[ False == df_all.is_test ], 'registered_log')\n",
    "_, y_train_reg, _, y_test_reg = get_train_test_X_y(df_all[ False == df_all.is_test ], 'casual_log')\n",
    "\n",
    "scores = []\n",
    "\n",
    "for params_model, name, model_class in tuning_models():\n",
    "    print name\n",
    "    for params in ParameterGrid(params_model):\n",
    "        pass\n",
    "        #...\n",
    "        \n",
    "print('TOP 5')\n",
    "print( sorted(scores, key=lambda x: x[1])[:5] )"
   ]
  },
  {
   "cell_type": "markdown",
   "metadata": {},
   "source": [
    "##  Submit"
   ]
  },
  {
   "cell_type": "code",
   "execution_count": 9,
   "metadata": {
    "collapsed": false
   },
   "outputs": [],
   "source": [
    "feats = ['weather', 'temp', 'atemp', 'humidity', 'windspeed', 'holiday', 'workingday', 'season','hour', 'dayofweek', 'year']\n",
    "xgb_features = feats\n",
    "gbm_features = feats\n",
    "rf_features = [\n",
    "    'weather', 'temp', 'atemp', 'windspeed',\n",
    "    'workingday', 'season', 'holiday',\n",
    "    'hour', 'dayofweek', 'weekofyear', 'rush_hour', 'peak'\n",
    "    ]\n",
    "\n",
    "df_train = df_all[False == df_all['count'].isnull()]\n",
    "df_test =  df_all[ df_all['count'].isnull()]                 \n",
    "\n",
    "\n",
    "_, y_train_count = get_X_y(df_train, 'count_log')\n",
    "_, y_train_reg = get_X_y(df_train, 'registered_log')\n",
    "_, y_train_cas = get_X_y(df_train, 'casual_log')\n",
    "\n",
    "gbm_X_train = df_train[gbm_features]\n",
    "xgb_X_train = df_train[xgb_features]\n",
    "rf_X_train = df_train[rf_features]\n",
    "et_X_train = df_train[rf_features]\n",
    "\n",
    "\n",
    "gbm_X_test  = df_test[gbm_features]\n",
    "xgb_X_test = df_test[xgb_features]\n",
    "rf_X_test  = df_test[rf_features]\n",
    "et_X_test  = df_test[rf_features]\n",
    "\n",
    "et_params = {'min_samples_split': 2, 'n_estimators': 50, 'n_jobs': -1, 'min_samples_leaf': 2}\n",
    "\n",
    "gbm_params = {'n_estimators': 150, 'max_depth': 5, 'random_state': 0, 'min_samples_leaf' : 10, 'learning_rate': 0.1, 'subsample': 0.7, 'loss': 'ls'}\n",
    "rf_params = {'n_estimators': 1000, 'max_depth': 15, 'random_state': 0, 'min_samples_split' : 5, 'n_jobs': -1}\n",
    "xgb_params = {'n_estimators':150,  'learning_rate':0.1, 'max_depth':5, 'subsample':0.6, 'colsample_bytree': 0.8}\n",
    "et_params = {'n_estimators': 100, 'min_samples_leaf': 5, 'random_state': 0, 'min_samples_split': 2}\n",
    "\n",
    "\n",
    "def predict(X_train, X_test, model):\n",
    "    model.fit(X_train, y_train_count)\n",
    "    y_pred_count_log = model.predict(X_test)\n",
    "    y_pred_count = np.exp( y_pred_count_log ) - 1\n",
    "    \n",
    "    model.fit(X_train, y_train_reg)\n",
    "    y_pred_reg_log = model.predict(X_test)\n",
    "    y_pred_reg = np.exp( y_pred_reg_log ) - 1\n",
    "\n",
    "    model.fit(X_train, y_train_cas)\n",
    "    y_pred_cas_log = model.predict(X_test)\n",
    "    y_pred_cas = np.exp( y_pred_cas_log ) - 1\n",
    "    \n",
    "    return y_pred_reg + y_pred_cas\n",
    "    #return .3*y_pred_count + .7*(y_pred_reg + y_pred_cas)\n",
    "\n",
    "gbm_count = predict(gbm_X_train, gbm_X_test, GradientBoostingRegressor(**gbm_params))\n",
    "rf_count = predict(rf_X_train, rf_X_test, RandomForestRegressor(**rf_params))\n",
    "xgb_count = predict(xgb_X_train, xgb_X_test, xgb.XGBRegressor(**xgb_params))\n",
    "#et_count = predict(et_X_train, et_X_test, ExtraTreesRegressor(**et_params))\n",
    "\n",
    "#count =  .5*xgb_count + .5*gbm_count \n",
    "count = .2*rf_count + .8*( .3*gbm_count  + .7*xgb_count)\n",
    "#count = .2*et_count + .4*xgb_count + .4*gbm_count \n",
    "\n",
    "test['count'] = count"
   ]
  },
  {
   "cell_type": "code",
   "execution_count": 10,
   "metadata": {
    "collapsed": false
   },
   "outputs": [],
   "source": [
    "test[ ['datetime', 'count'] ].to_csv('final_submit.csv', index=False)"
   ]
  },
  {
   "cell_type": "code",
   "execution_count": null,
   "metadata": {
    "collapsed": true
   },
   "outputs": [],
   "source": []
  }
 ],
 "metadata": {
  "kernelspec": {
   "display_name": "Python 2",
   "language": "python",
   "name": "python2"
  },
  "language_info": {
   "codemirror_mode": {
    "name": "ipython",
    "version": 2
   },
   "file_extension": ".py",
   "mimetype": "text/x-python",
   "name": "python",
   "nbconvert_exporter": "python",
   "pygments_lexer": "ipython2",
   "version": "2.7.11"
  }
 },
 "nbformat": 4,
 "nbformat_minor": 0
}
